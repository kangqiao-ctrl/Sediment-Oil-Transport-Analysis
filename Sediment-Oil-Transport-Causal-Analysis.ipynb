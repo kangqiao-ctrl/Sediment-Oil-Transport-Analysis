{
 "cells": [
  {
   "cell_type": "code",
   "execution_count": 1,
   "id": "ba4c1ae0-23b7-4509-8cb1-9ea25b4ff83a",
   "metadata": {},
   "outputs": [],
   "source": [
    "import dowhy\n",
    "import pandas as pd\n",
    "import numpy as np\n",
    "from sklearn import preprocessing"
   ]
  },
  {
   "cell_type": "code",
   "execution_count": 2,
   "id": "c3db9750-b239-4a84-a249-99d1314587fe",
   "metadata": {},
   "outputs": [],
   "source": [
    "from itertools import product"
   ]
  },
  {
   "cell_type": "code",
   "execution_count": 3,
   "id": "3d91ada4-759b-4aa8-8fac-fa4854b31a58",
   "metadata": {},
   "outputs": [],
   "source": [
    "import econml\n",
    "from econml.dml import LinearDML, CausalForestDML\n",
    "from sklearn.ensemble import GradientBoostingRegressor\n"
   ]
  },
  {
   "cell_type": "code",
   "execution_count": 5,
   "id": "e4d25b2b-62e8-4bd2-808a-94c2b37a7829",
   "metadata": {},
   "outputs": [],
   "source": [
    "import logging\n",
    "\n",
    "logger = logging.getLogger()\n",
    "logger.setLevel(logging.WARNING)"
   ]
  },
  {
   "cell_type": "code",
   "execution_count": 6,
   "id": "7c3d8c3a-7ace-4474-890b-e9887477e94b",
   "metadata": {},
   "outputs": [],
   "source": [
    "pd.set_option('display.max_rows', 500)\n",
    "pd.set_option('display.max_columns', 500)"
   ]
  },
  {
   "cell_type": "code",
   "execution_count": 7,
   "id": "2fe88718-1209-4c52-aefa-8eca2eefb134",
   "metadata": {},
   "outputs": [],
   "source": [
    "df = pd.read_csv(\"trapping_b2.csv\",index_col=0)"
   ]
  },
  {
   "cell_type": "code",
   "execution_count": 8,
   "id": "1507cb53-6dc1-4625-a206-fdfd4935cc11",
   "metadata": {},
   "outputs": [],
   "source": [
    "causal_graph = \"\"\"digraph {\n",
    "\"Salinity\"->\"Dispersion effectiveness\";\n",
    "\"Salinity\"->\"Oil trapping efficiency\";\n",
    "\"Salinity\"->\"Settling efficiency\";\n",
    "\"Dispersant\"->\"Dispersion effectiveness\";\n",
    "\"Dispersant\"->\"Oil trapping efficiency\";\n",
    "\"Dispersant\"->\"Settling efficiency\";\n",
    "\"Dispersion effectiveness\"->\"Settling efficiency\";\n",
    "\"Dispersion effectiveness\"->\"Oil trapping efficiency\";\n",
    "\"Settling efficiency\"->\"Oil trapping efficiency\";\n",
    "}\"\"\"\n"
   ]
  },
  {
   "cell_type": "code",
   "execution_count": 9,
   "id": "00936926-4c56-4c06-8573-6a58fe545a37",
   "metadata": {},
   "outputs": [],
   "source": [
    "scaler = preprocessing.MinMaxScaler()"
   ]
  },
  {
   "cell_type": "code",
   "execution_count": 10,
   "id": "f321e688-aedb-4233-b115-1312de6d28d0",
   "metadata": {},
   "outputs": [],
   "source": [
    "df_scaled = pd.DataFrame(scaler.fit_transform(df),columns = df.columns)"
   ]
  },
  {
   "cell_type": "code",
   "execution_count": 11,
   "id": "47a856ca-9f9c-4305-8099-22eccbc3bb65",
   "metadata": {},
   "outputs": [],
   "source": [
    "t_y = [(\"Salinity\",\"Dispersion effectiveness\"),(\"Salinity\",\"Oil trapping efficiency\"),\n",
    "         (\"Salinity\",\"Settling efficiency\"),(\"Dispersant\",\"Dispersion effectiveness\"),\n",
    "         (\"Dispersant\",\"Oil trapping efficiency\"),(\"Dispersant\",\"Settling efficiency\"),\n",
    "         (\"Dispersion effectiveness\",\"Settling efficiency\"),(\"Dispersion effectiveness\",\"Oil trapping efficiency\"),\n",
    "         (\"Settling efficiency\",\"Oil trapping efficiency\")]"
   ]
  },
  {
   "cell_type": "code",
   "execution_count": 12,
   "id": "bc631986-16ee-4596-ae7a-641331e1e42f",
   "metadata": {},
   "outputs": [],
   "source": [
    "params = [(s1, s2, causal_graph,df_scaled) for (s1, s2) in t_y]"
   ]
  },
  {
   "cell_type": "code",
   "execution_count": 188,
   "id": "dcc0637b-1cab-4f5f-9a2e-96c7e3293d60",
   "metadata": {},
   "outputs": [],
   "source": [
    "def causal_all_in_one(treatment,outcome,graph,df):\n",
    "    model = dowhy.CausalModel(data = df,\n",
    "                        treatment = treatment,\n",
    "                        outcome = outcome,\n",
    "                        graph = graph)\n",
    "    \n",
    "    modifiers = model.get_effect_modifiers()\n",
    "    confounders = model.get_common_causes()   \n",
    "\n",
    "    estimand = model.identify_effect(proceed_when_unidentifiable=True)\n",
    "    backdoor_var = estimand.backdoor_variables\n",
    "    \n",
    "    #  Linear\n",
    "    estimate_li = model.estimate_effect(estimand,method_name = \"backdoor.linear_regression\", method_params = None, confidence_intervals = True)\n",
    "    \n",
    "    print(treatment,outcome,\"############### Now refuting: Random Common Cause (Linear)#######################\")\n",
    "    res_random_li=model.refute_estimate(estimand,estimate_li, method_name=\"random_common_cause\")    \n",
    "    print(treatment,outcome,\"############### Now refuting: Add Unobserved Common Cause (Linear)######################\")\n",
    "    res_unobserved_li=model.refute_estimate(estimand, estimate_li, method_name=\"add_unobserved_common_cause\",\n",
    "                                         confounders_effect_on_treatment=\"binary_flip\", confounders_effect_on_outcome=\"linear\",\n",
    "                                        effect_strength_on_treatment=0.01, effect_strength_on_outcome=0.02)\n",
    "    print(treatment,outcome,\"############### Now refuting: Placebo (Linear)##############################\")\n",
    "    res_placebo_li=model.refute_estimate(estimand, estimate_li, method_name=\"placebo_treatment_refuter\",placebo_type=\"permute\")\n",
    "    li_res = [estimate_li.value, estimate_li.get_confidence_intervals(),res_random_li,res_unobserved_li,res_placebo_li]\n",
    "\n",
    "    #  DML\n",
    "    if len(confounders)>0 or len(modifiers)>0:     \n",
    "        \n",
    "        #est_nonparam = CausalForestDML(model_y=GradientBoostingRegressor(), model_t=GradientBoostingRegressor(),random_state=12)\n",
    "        est_nonparam = CausalForestDML(random_state=12)\n",
    "\n",
    "        Y = df[outcome].values\n",
    "        T = df[treatment].values\n",
    "\n",
    "        args = [Y, T]\n",
    "\n",
    "\n",
    "        if len(modifiers)== 0:\n",
    "                        \n",
    "            print('Special case: NO Effect Modifier!')\n",
    "            kwargs = {'inference':'auto'}\n",
    "            X = df[confounders].values\n",
    "            kwargs['X'] = X\n",
    "            W = None\n",
    "\n",
    "            # Here in the special case, we use raw EconML interface instead of DoWhy wrapper or EconML wrapper in either package to avoid confusion\n",
    "            est_nonparam.fit(*args, **kwargs)            \n",
    "            te_pred = est_nonparam.effect(X)\n",
    "            estimated_ate_ci = (est_nonparam.effect_interval(X)[0].mean(),est_nonparam.effect_interval(X)[1].mean())\n",
    "\n",
    "            print(treatment,outcome,\"############### NO DML REFUTATION!#######################\")\n",
    "            \n",
    "            res_random_dml,res_unobserved_dml,res_placebo_dml = None,None,None   \n",
    "\n",
    "            \n",
    "\n",
    "        else:\n",
    "            print('Ordinary case: has effect modifier and confounders.')\n",
    "            \n",
    "            kwargs = {'outcome_names':[outcome],'treatment_names':[treatment],'graph':causal_graph,'inference':'auto'}\n",
    "            \n",
    "\n",
    "            X = df[modifiers].values\n",
    "            kwargs['X'] = X\n",
    "            kwargs['feature_names'] = modifiers      \n",
    "            \n",
    "            if confounders:\n",
    "                W = df[confounders].values\n",
    "                kwargs['W'] = W\n",
    "                kwargs['confounder_names'] = confounders\n",
    "            \n",
    "            est_nonparam_dw = est_nonparam.dowhy.fit(*args,**kwargs)            \n",
    "\n",
    "            print(treatment,outcome,\"############### Now refuting: Random Common Cause (DML)##################\")\n",
    "            res_random_dml = est_nonparam_dw.refute_estimate(method_name=\"random_common_cause\")\n",
    "\n",
    "            print(treatment,outcome,\"############### Now refuting: Add Unobserved Common Cause (DML)##################\")\n",
    "            res_unobserved_dml = est_nonparam_dw.refute_estimate(method_name=\"add_unobserved_common_cause\",\n",
    "                                                 confounders_effect_on_treatment=\"binary_flip\", confounders_effect_on_outcome=\"linear\",\n",
    "                                                effect_strength_on_treatment=0.01, effect_strength_on_outcome=0.02)\n",
    "\n",
    "            print(treatment,outcome,\"############### Now refuting: Placebo (DML)##############################\")\n",
    "            res_placebo_dml = est_nonparam_dw.refute_estimate(method_name=\"placebo_treatment_refuter\", placebo_type=\"permute\", num_simulations=100)\n",
    "            \n",
    "            te_pred = est_nonparam_dw.effect(X)\n",
    "            estimated_ate_ci = est_nonparam_dw.ate_interval(X)\n",
    "        \n",
    "\n",
    "        estimated_ate = te_pred.mean()\n",
    "\n",
    "        dml_res = [estimated_ate, te_pred,estimated_ate_ci,res_random_dml,res_unobserved_dml,res_placebo_dml]        \n",
    "\n",
    "    else:\n",
    "        dml_res = None\n",
    "\n",
    "    return li_res,dml_res,modifiers,confounders, backdoor_var"
   ]
  },
  {
   "cell_type": "code",
   "execution_count": 189,
   "id": "77f205b8-f228-4c29-b0e2-935fa020a363",
   "metadata": {},
   "outputs": [],
   "source": [
    "res = []"
   ]
  },
  {
   "cell_type": "code",
   "execution_count": 190,
   "id": "19886e10-20ba-4e9f-8e8a-dc1435b0251d",
   "metadata": {
    "tags": []
   },
   "outputs": [
    {
     "name": "stdout",
     "output_type": "stream",
     "text": [
      "Dispersion effectiveness Settling efficiency ############### Now refuting: Random Common Cause (Linear)#######################\n",
      "Dispersion effectiveness Settling efficiency ############### Now refuting: Add Unobserved Common Cause (Linear)######################\n",
      "Dispersion effectiveness Settling efficiency ############### Now refuting: Placebo (Linear)##############################\n",
      "Special case: NO Effect Modifier!\n",
      "Dispersion effectiveness Settling efficiency ############### NO DML REFUTATION!#######################\n",
      "Dispersion effectiveness Oil trapping efficiency ############### Now refuting: Random Common Cause (Linear)#######################\n",
      "Dispersion effectiveness Oil trapping efficiency ############### Now refuting: Add Unobserved Common Cause (Linear)######################\n",
      "Dispersion effectiveness Oil trapping efficiency ############### Now refuting: Placebo (Linear)##############################\n",
      "Special case: NO Effect Modifier!\n",
      "Dispersion effectiveness Oil trapping efficiency ############### NO DML REFUTATION!#######################\n",
      "Settling efficiency Oil trapping efficiency ############### Now refuting: Random Common Cause (Linear)#######################\n",
      "Settling efficiency Oil trapping efficiency ############### Now refuting: Add Unobserved Common Cause (Linear)######################\n",
      "Settling efficiency Oil trapping efficiency ############### Now refuting: Placebo (Linear)##############################\n",
      "Special case: NO Effect Modifier!\n",
      "Settling efficiency Oil trapping efficiency ############### NO DML REFUTATION!#######################\n"
     ]
    }
   ],
   "source": [
    "for param in params:\n",
    "    res.append(causal_all_in_one(*param))"
   ]
  },
  {
   "cell_type": "code",
   "execution_count": 191,
   "id": "7f50f92b-6228-49d2-a0bb-9aaa05715472",
   "metadata": {},
   "outputs": [],
   "source": [
    "results_full = res"
   ]
  },
  {
   "cell_type": "code",
   "execution_count": 192,
   "id": "2f99248a-8348-46a0-92b5-88b16dcd1cf4",
   "metadata": {},
   "outputs": [],
   "source": [
    "df_res_full=pd.DataFrame(columns = \n",
    "                         ['treatment','outcome',\n",
    "                          'ate_li','ci_li',\n",
    "                          'rand_li','rand_li-p-val','rand_li-is_statistically_significant',\n",
    "                          'unobserved_li','placebo_li','li-pl-p-val','li-pl_is_statistically_significant',\n",
    "                          'ate_dml','ate2_dml','ci_dml',\n",
    "                          'rand_dml','rand_dml-p-val','rand_dml-is_statistically_significant',\n",
    "                          'unobserved_dml','placebo_dml','dml_pl_p_val','dml_pl_is_statistically_significant',\n",
    "                          'modifiers','confounders','backdoor_var'])"
   ]
  },
  {
   "cell_type": "code",
   "execution_count": 193,
   "id": "89cfc460-e831-435f-bb69-972fca515e98",
   "metadata": {},
   "outputs": [],
   "source": [
    "df_res_full['treatment'] = [ele[0] for ele in params]\n",
    "df_res_full['outcome'] = [ele[1] for ele in params]"
   ]
  },
  {
   "cell_type": "code",
   "execution_count": 194,
   "id": "b87ac9d5-eb38-480f-a79b-bca4d5fd5416",
   "metadata": {},
   "outputs": [],
   "source": [
    "df_res_full['ate_li'] = [x[0][0] for x in results_full]\n",
    "df_res_full['ci_li'] = [x[0][1] for x in results_full]"
   ]
  },
  {
   "cell_type": "code",
   "execution_count": 195,
   "id": "1f299977-4b6c-464c-b7d6-16b5a1bf74f3",
   "metadata": {},
   "outputs": [],
   "source": [
    "df_res_full['rand_li'] = [x[0][2].new_effect for x in results_full]\n",
    "df_res_full['rand_li-p-val'] = [x[0][2].refutation_result['p_value'] for x in results_full]\n",
    "df_res_full['rand_li-is_statistically_significant'] = [x[0][2].refutation_result['is_statistically_significant'] for x in results_full]\n",
    "df_res_full['unobserved_li'] = [x[0][3].new_effect for x in results_full]\n",
    "df_res_full['placebo_li'] = [x[0][4].new_effect for x in results_full]\n",
    "df_res_full['li-pl-p-val'] = [x[0][4].refutation_result['p_value'] for x in results_full]\n",
    "df_res_full['li-pl_is_statistically_significant'] = [x[0][4].refutation_result['is_statistically_significant'] for x in results_full]"
   ]
  },
  {
   "cell_type": "code",
   "execution_count": 196,
   "id": "4f5a07af-72c7-4c1c-b737-2b156d02fd06",
   "metadata": {},
   "outputs": [],
   "source": [
    "df_res_full['ate_dml'] = [x[1][0] if x[1] else None for x in results_full]\n",
    "df_res_full['ate2_dml'] = [x[1][1] if x[1] else None for x in results_full]\n",
    "df_res_full['ci_dml'] = [x[1][2] if x[1] else None for x in results_full]"
   ]
  },
  {
   "cell_type": "code",
   "execution_count": 197,
   "id": "b87ea93f-60fa-45aa-8886-4a8b167d7af4",
   "metadata": {},
   "outputs": [],
   "source": [
    "df_res_full['rand_dml'] = [x[1][3].new_effect if x[1][3] else None for x in results_full]\n",
    "df_res_full['rand_dml-p-val'] = [x[1][3].refutation_result['p_value'] if x[1][3] else None for x in results_full]\n",
    "df_res_full['rand_dml-is_statistically_significant'] = [x[1][3].refutation_result['is_statistically_significant'] if x[1][3] else None for x in results_full]\n",
    "df_res_full['unobserved_dml'] = [x[1][4].new_effect if x[1][4] else None for x in results_full]\n",
    "df_res_full['placebo_dml'] = [x[1][5].new_effect if x[1][4] else None for x in results_full]\n",
    "df_res_full['dml_pl_p_val'] = [x[1][5].refutation_result['p_value'] if x[1][5] else None for x in results_full]\n",
    "df_res_full['dml_pl_is_statistically_significant'] = [x[1][5].refutation_result['is_statistically_significant'] if x[1][5] else None for x in results_full]"
   ]
  },
  {
   "cell_type": "code",
   "execution_count": 198,
   "id": "430b8b8a-233d-4618-ab42-3f900a273871",
   "metadata": {},
   "outputs": [],
   "source": [
    "df_res_full['modifiers'] = [x[2] for x in results_full]\n",
    "df_res_full['confounders'] = [x[3] for x in results_full]"
   ]
  },
  {
   "cell_type": "code",
   "execution_count": 199,
   "id": "c3cd6c90-db8e-410c-b4af-a3f405ca8535",
   "metadata": {},
   "outputs": [],
   "source": [
    "df_res_full['backdoor_var'] = [x[4] for x in results_full]"
   ]
  },
  {
   "cell_type": "code",
   "execution_count": 201,
   "id": "ab835c51-d023-495d-8767-53d3786d96e8",
   "metadata": {
    "tags": []
   },
   "outputs": [],
   "source": [
    "df_res_full.to_csv(\"causal_result_dml_hongrui_v2.csv\")"
   ]
  },
  {
   "cell_type": "code",
   "execution_count": null,
   "id": "c073e811-da25-4944-be5e-a8e407989ea8",
   "metadata": {
    "tags": []
   },
   "outputs": [],
   "source": [
    "# Create a pandas DataFrame to store the estimated ATEs, their confidence intervals, and refutation p-values\n",
    "data = pd.DataFrame({\n",
    "    'Causal Relationship': #[x[0]+' -> '+x[1] for x in list(zip(df_res_full[\"treatment\"].values,df_res_full[\"outcome\"].values))],\n",
    "    ['SAL -> DE', 'SAL -> OTE', 'SAL -> SE', 'DISP -> DE', 'DISP -> OTE', 'DISP -> SE', \n",
    "                            'DE -> SE', 'DE -> OTE', 'SE -> OTE'],\n",
    "    'ATE': df_res_full['ate_li'].values,\n",
    "    'Lower CI': [x[0] if type(x) is tuple else x[0][0] for x in df_res_full['ci_li'].values],\n",
    "    'Upper CI': [x[1] if type(x) is tuple else x[0][1] for x in df_res_full['ci_li'].values],\n",
    "})\n",
    "\n",
    "colors = ['#4C72B0', '#55A868', '#C44E52', '#8172B2', '#CCB974', '#64B5CD', '#4C4C4C', '#EDC948', '#FF9DA7']\n",
    "\n",
    "# Define a color gradient for the ATE points\n",
    "vmin = 0\n",
    "vmax = 1\n",
    "#cmap = sns.color_palette('Blues', as_cmap=True)\n",
    "cmap = sns.cubehelix_palette(start=.5, rot=-.75, as_cmap=True)\n",
    "norm = plt.Normalize(vmin=vmin, vmax=vmax)\n",
    "sns.set_palette(colors)\n",
    "\n",
    "# Set up the plot\n",
    "with plt.rc_context({'font.family': 'Liberation Serif'}):\n",
    "    fig, ax = plt.subplots(figsize=(10, 6))\n",
    "    sns.set_style('whitegrid')\n",
    "\n",
    "    # Plot the ATE points\n",
    "    sns.pointplot(x='ATE', y='Causal Relationship', data=data, join=False, palette=cmap(norm(np.abs(data['ATE']))), ax=ax)\n",
    "\n",
    "    # Add the confidence intervals\n",
    "    for i, row in data.iterrows():\n",
    "        ax.errorbar(row['ATE'], i, xerr=[[row['ATE'] - row['Lower CI']], [row['Upper CI'] - row['ATE']]],\n",
    "                    capsize=5, color=colors[1], alpha=0.6)\n",
    "\n",
    "    # Add a horizontal line at y=0 to indicate no causal effect\n",
    "    ax.axvline(x=0, linestyle='--', color='black')\n",
    "\n",
    "    # Set the x-axis limits\n",
    "    ax.set_xlim(-1.8, 1.8)\n",
    "\n",
    "    # Add axis labels and a title\n",
    "    ax.set_xlabel('ATE')\n",
    "    ax.set_ylabel('Causal Relationships')\n",
    "    #ax.set_yticklabels(data['Causal Relationship'], rotation=90)\n",
    "\n",
    "    ax.set_title('Estimated ATEs with 95% Confidence Intervals')\n",
    "\n",
    "    sm = plt.cm.ScalarMappable(cmap=cmap, norm=norm)\n",
    "    sm.set_array([])\n",
    "    cbar = plt.colorbar(sm)\n",
    "    cbar.ax.set_ylabel('|ATE|', rotation=270, labelpad=15,font_properties='Liberation Serif')\n",
    "    for label in cbar.ax.get_yticklabels() :\n",
    "        label.set_fontproperties('Liberation Serif')\n",
    "\n",
    "    fig.savefig('causal_effects.png', dpi=300)\n"
   ]
  },
  {
   "cell_type": "code",
   "execution_count": 309,
   "id": "fe77554f-a562-4e17-b226-71cd1382cd4f",
   "metadata": {},
   "outputs": [],
   "source": [
    "cbar.set_ticks(cbar.get_ticks(),fontfamily='Liberation Serif')"
   ]
  },
  {
   "cell_type": "code",
   "execution_count": 281,
   "id": "5159eb01-4e58-4ef2-b721-7ff1440db6dd",
   "metadata": {},
   "outputs": [
    {
     "data": {
      "text/plain": [
       "0                 Salinity -> Dispersion effectiveness\n",
       "1                  Salinity -> Oil trapping efficiency\n",
       "2                      Salinity -> Settling efficiency\n",
       "3               Dispersant -> Dispersion effectiveness\n",
       "4                Dispersant -> Oil trapping efficiency\n",
       "5                    Dispersant -> Settling efficiency\n",
       "6      Dispersion effectiveness -> Settling efficiency\n",
       "7    Dispersion effectiveness -> Oil trapping effic...\n",
       "8       Settling efficiency -> Oil trapping efficiency\n",
       "Name: Causal Relationship, dtype: object"
      ]
     },
     "execution_count": 281,
     "metadata": {},
     "output_type": "execute_result"
    }
   ],
   "source": [
    "data['Causal Relationship']"
   ]
  },
  {
   "cell_type": "code",
   "execution_count": null,
   "id": "fc70fd1b-3009-4c51-abdb-f6a54f2b2985",
   "metadata": {},
   "outputs": [],
   "source": [
    "# Generate heatmap without mirroring\n",
    "with plt.rc_context({'font.family': 'Liberation Serif'}):\n",
    "    fig, ax = plt.subplots(figsize=(5, 5))\n",
    "    mask = np.triu(np.ones_like(corr_data, dtype=bool))\n",
    "    heatmap = sns.heatmap(corr_data, annot=True, fmt='.3f', mask=mask, cmap='coolwarm', cbar_kws={'location': 'right', 'pad':-0.05,'shrink':0.8}, square=True, ax=ax, xticklabels=['SAL', 'DISP', 'DE', 'SE', 'OTE'], yticklabels=['SAL', 'DISP', 'DE', 'SE', 'OTE'])\n",
    "\n",
    "    # Set title\n",
    "\n",
    "    # Show plot\n",
    "    fig.savefig('correlations.png', dpi=300)"
   ]
  }
 ],
 "metadata": {
  "kernelspec": {
   "display_name": "Python 3 (ipykernel)",
   "language": "python",
   "name": "python3"
  },
  "language_info": {
   "codemirror_mode": {
    "name": "ipython",
    "version": 3
   },
   "file_extension": ".py",
   "mimetype": "text/x-python",
   "name": "python",
   "nbconvert_exporter": "python",
   "pygments_lexer": "ipython3",
   "version": "3.9.13"
  }
 },
 "nbformat": 4,
 "nbformat_minor": 5
}
